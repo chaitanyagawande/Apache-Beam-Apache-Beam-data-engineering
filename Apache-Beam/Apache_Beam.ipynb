{
  "nbformat": 4,
  "nbformat_minor": 0,
  "metadata": {
    "colab": {
      "provenance": []
    },
    "kernelspec": {
      "name": "python3",
      "display_name": "Python 3"
    },
    "language_info": {
      "name": "python"
    }
  },
  "cells": [
    {
      "cell_type": "code",
      "execution_count": 26,
      "metadata": {
        "colab": {
          "base_uri": "https://localhost:8080/"
        },
        "id": "Ct3HUH_PH86B",
        "outputId": "314ee32d-7fbc-4e72-b182-d74e67c0581e"
      },
      "outputs": [
        {
          "output_type": "stream",
          "name": "stdout",
          "text": [
            "Requirement already satisfied: apache_beam in /usr/local/lib/python3.10/dist-packages (2.51.0)\n",
            "Requirement already satisfied: crcmod<2.0,>=1.7 in /usr/local/lib/python3.10/dist-packages (from apache_beam) (1.7)\n",
            "Requirement already satisfied: orjson<4,>=3.9.7 in /usr/local/lib/python3.10/dist-packages (from apache_beam) (3.9.9)\n",
            "Requirement already satisfied: dill<0.3.2,>=0.3.1.1 in /usr/local/lib/python3.10/dist-packages (from apache_beam) (0.3.1.1)\n",
            "Requirement already satisfied: cloudpickle~=2.2.1 in /usr/local/lib/python3.10/dist-packages (from apache_beam) (2.2.1)\n",
            "Requirement already satisfied: fastavro<2,>=0.23.6 in /usr/local/lib/python3.10/dist-packages (from apache_beam) (1.8.4)\n",
            "Requirement already satisfied: fasteners<1.0,>=0.3 in /usr/local/lib/python3.10/dist-packages (from apache_beam) (0.19)\n",
            "Requirement already satisfied: grpcio!=1.48.0,<2,>=1.33.1 in /usr/local/lib/python3.10/dist-packages (from apache_beam) (1.59.0)\n",
            "Requirement already satisfied: hdfs<3.0.0,>=2.1.0 in /usr/local/lib/python3.10/dist-packages (from apache_beam) (2.7.3)\n",
            "Requirement already satisfied: httplib2<0.23.0,>=0.8 in /usr/local/lib/python3.10/dist-packages (from apache_beam) (0.22.0)\n",
            "Requirement already satisfied: js2py<1,>=0.74 in /usr/local/lib/python3.10/dist-packages (from apache_beam) (0.74)\n",
            "Requirement already satisfied: numpy<1.25.0,>=1.14.3 in /usr/local/lib/python3.10/dist-packages (from apache_beam) (1.23.5)\n",
            "Requirement already satisfied: objsize<0.7.0,>=0.6.1 in /usr/local/lib/python3.10/dist-packages (from apache_beam) (0.6.1)\n",
            "Requirement already satisfied: packaging>=22.0 in /usr/local/lib/python3.10/dist-packages (from apache_beam) (23.2)\n",
            "Requirement already satisfied: pymongo<5.0.0,>=3.8.0 in /usr/local/lib/python3.10/dist-packages (from apache_beam) (4.5.0)\n",
            "Requirement already satisfied: proto-plus<2,>=1.7.1 in /usr/local/lib/python3.10/dist-packages (from apache_beam) (1.22.3)\n",
            "Requirement already satisfied: protobuf!=4.0.*,!=4.21.*,!=4.22.0,!=4.23.*,!=4.24.0,!=4.24.1,!=4.24.2,<4.25.0,>=3.20.3 in /usr/local/lib/python3.10/dist-packages (from apache_beam) (3.20.3)\n",
            "Requirement already satisfied: pydot<2,>=1.2.0 in /usr/local/lib/python3.10/dist-packages (from apache_beam) (1.4.2)\n",
            "Requirement already satisfied: python-dateutil<3,>=2.8.0 in /usr/local/lib/python3.10/dist-packages (from apache_beam) (2.8.2)\n",
            "Requirement already satisfied: pytz>=2018.3 in /usr/local/lib/python3.10/dist-packages (from apache_beam) (2023.3.post1)\n",
            "Requirement already satisfied: regex>=2020.6.8 in /usr/local/lib/python3.10/dist-packages (from apache_beam) (2023.6.3)\n",
            "Requirement already satisfied: requests<3.0.0,>=2.24.0 in /usr/local/lib/python3.10/dist-packages (from apache_beam) (2.31.0)\n",
            "Requirement already satisfied: typing-extensions>=3.7.0 in /usr/local/lib/python3.10/dist-packages (from apache_beam) (4.5.0)\n",
            "Requirement already satisfied: zstandard<1,>=0.18.0 in /usr/local/lib/python3.10/dist-packages (from apache_beam) (0.21.0)\n",
            "Requirement already satisfied: pyarrow<12.0.0,>=3.0.0 in /usr/local/lib/python3.10/dist-packages (from apache_beam) (9.0.0)\n",
            "Requirement already satisfied: docopt in /usr/local/lib/python3.10/dist-packages (from hdfs<3.0.0,>=2.1.0->apache_beam) (0.6.2)\n",
            "Requirement already satisfied: six>=1.9.0 in /usr/local/lib/python3.10/dist-packages (from hdfs<3.0.0,>=2.1.0->apache_beam) (1.16.0)\n",
            "Requirement already satisfied: pyparsing!=3.0.0,!=3.0.1,!=3.0.2,!=3.0.3,<4,>=2.4.2 in /usr/local/lib/python3.10/dist-packages (from httplib2<0.23.0,>=0.8->apache_beam) (3.1.1)\n",
            "Requirement already satisfied: tzlocal>=1.2 in /usr/local/lib/python3.10/dist-packages (from js2py<1,>=0.74->apache_beam) (5.1)\n",
            "Requirement already satisfied: pyjsparser>=2.5.1 in /usr/local/lib/python3.10/dist-packages (from js2py<1,>=0.74->apache_beam) (2.7.1)\n",
            "Requirement already satisfied: dnspython<3.0.0,>=1.16.0 in /usr/local/lib/python3.10/dist-packages (from pymongo<5.0.0,>=3.8.0->apache_beam) (2.4.2)\n",
            "Requirement already satisfied: charset-normalizer<4,>=2 in /usr/local/lib/python3.10/dist-packages (from requests<3.0.0,>=2.24.0->apache_beam) (3.3.0)\n",
            "Requirement already satisfied: idna<4,>=2.5 in /usr/local/lib/python3.10/dist-packages (from requests<3.0.0,>=2.24.0->apache_beam) (3.4)\n",
            "Requirement already satisfied: urllib3<3,>=1.21.1 in /usr/local/lib/python3.10/dist-packages (from requests<3.0.0,>=2.24.0->apache_beam) (2.0.7)\n",
            "Requirement already satisfied: certifi>=2017.4.17 in /usr/local/lib/python3.10/dist-packages (from requests<3.0.0,>=2.24.0->apache_beam) (2023.7.22)\n"
          ]
        }
      ],
      "source": [
        "!pip install apache_beam"
      ]
    },
    {
      "cell_type": "markdown",
      "source": [
        "## **Dataset: Banking Transactions Data**\n",
        "### File: banking_transactions.csv\n",
        "\n",
        "* transaction_id: A unique identifier for the transaction.\n",
        "* account_id: Identifier for the account making the transaction.\n",
        "* transaction_type: Either \"credit\" or \"debit\".\n",
        "* amount: Amount involved in the transaction.\n",
        "* balance_after_transaction: Balance of the account after the transaction.\n",
        "* timestamp: Time of the transaction."
      ],
      "metadata": {
        "id": "pcrpu5BETwCO"
      }
    },
    {
      "cell_type": "markdown",
      "source": [
        "### 1. Composite Transform using Apache Beam\n",
        "For this example, let's create a composite transform that:\n",
        "1.   Filters out only \"debit\" transactions.\n",
        "2.   Calculates the total amount debited for each account."
      ],
      "metadata": {
        "id": "vIO6BX30JvO9"
      }
    },
    {
      "cell_type": "code",
      "source": [
        "import apache_beam as beam\n",
        "from apache_beam.options.pipeline_options import PipelineOptions\n",
        "\n",
        "# Filtering Debit Transactions\n",
        "class FilterDebitTransactions(beam.PTransform):\n",
        "    def expand(self, pcoll):\n",
        "        return pcoll | beam.Filter(lambda record: record['transaction_type'] == 'debit')\n",
        "\n",
        "# Map account with amount\n",
        "class CalculateTotalDebitPerAccount(beam.PTransform):\n",
        "    def expand(self, pcoll):\n",
        "        return (\n",
        "            pcoll\n",
        "            | 'Map Account and Amount' >> beam.Map(lambda record: (record['account_id'], record['amount']))\n",
        "            | 'Sum Amounts' >> beam.CombinePerKey(sum)\n",
        "        )\n",
        "\n",
        "#\n",
        "class DebitAnalysis(beam.PTransform):\n",
        "    def expand(self, pcoll):\n",
        "        return (\n",
        "            pcoll\n",
        "            | 'Filter Debits' >> FilterDebitTransactions()\n",
        "            | 'Total Debit per Account' >> CalculateTotalDebitPerAccount()\n",
        "        )"
      ],
      "metadata": {
        "id": "TAossd3pIIWi"
      },
      "execution_count": 27,
      "outputs": []
    },
    {
      "cell_type": "code",
      "source": [
        "options = PipelineOptions(flags=['--allow_unsafe_triggers'])\n",
        "\n",
        "with beam.Pipeline(options=options) as p:\n",
        "    transactions = (\n",
        "        p\n",
        "        | 'Read from CSV' >> beam.io.ReadFromText('banking_transactions.csv', skip_header_lines=1)\n",
        "        | 'Parse CSV' >> beam.Map(lambda line: dict(zip(['transaction_id', 'account_id', 'transaction_type', 'amount', 'balance_after_transaction', 'timestamp'], line.split(','))))\n",
        "        | 'Convert Amount to Float' >> beam.Map(lambda record: {**record, 'amount': float(record['amount'])})\n",
        "        | 'Analyze Debits' >> DebitAnalysis()\n",
        "        | 'Write Results' >> beam.io.WriteToText('debit_analysis.txt')\n",
        "    )\n",
        "print(\"Written results to debit_analysis.txt file\")"
      ],
      "metadata": {
        "colab": {
          "base_uri": "https://localhost:8080/"
        },
        "id": "Ex88GwVtIcFg",
        "outputId": "8f404460-b639-4db3-e1a1-d1c25e9a7ab4"
      },
      "execution_count": 28,
      "outputs": [
        {
          "output_type": "stream",
          "name": "stdout",
          "text": [
            "Written results to debit_analysis.txt file\n"
          ]
        }
      ]
    },
    {
      "cell_type": "markdown",
      "source": [
        "### 2. Pipeline I/O\n",
        "Let's find the total number of credit and debit transactions for each account."
      ],
      "metadata": {
        "id": "JoRR8qEbKcBT"
      }
    },
    {
      "cell_type": "code",
      "source": [
        "class CountTransactions(beam.PTransform):\n",
        "    def expand(self, pcoll):\n",
        "        return (\n",
        "            pcoll\n",
        "            | 'Map Account and Transaction Type' >> beam.Map(lambda record: ((record['account_id'], record['transaction_type']), 1))\n",
        "            | 'Count Transactions' >> beam.CombinePerKey(sum)\n",
        "            | 'Format Results' >> beam.Map(lambda x: {'account_id': x[0][0], 'transaction_type': x[0][1], 'count': x[1]})\n",
        "        )"
      ],
      "metadata": {
        "id": "449sNZ_IKkcC"
      },
      "execution_count": 29,
      "outputs": []
    },
    {
      "cell_type": "code",
      "source": [
        "# Define the pipeline\n",
        "with beam.Pipeline(options=options) as p:\n",
        "    results = (\n",
        "        p\n",
        "        | 'Read from CSV' >> beam.io.ReadFromText('banking_transactions.csv', skip_header_lines=1)\n",
        "        | 'Parse CSV' >> beam.Map(lambda line: dict(zip(['transaction_id', 'account_id', 'transaction_type', 'amount', 'balance_after_transaction', 'timestamp'], line.split(','))))\n",
        "        | 'Count Transactions per Type' >> CountTransactions()\n",
        "        | 'Write Results to CSV' >> beam.io.WriteToText('transaction_counts_per_account', file_name_suffix='.csv', header='account_id,transaction_type,count', shard_name_template='')\n",
        "    )\n",
        "\n",
        "print(\"Analysis complete. Results written to 'transaction_counts_per_account.csv'\")"
      ],
      "metadata": {
        "colab": {
          "base_uri": "https://localhost:8080/"
        },
        "id": "MSihk1VOKoup",
        "outputId": "f2074e99-011e-4752-a230-03c481ddc56d"
      },
      "execution_count": 30,
      "outputs": [
        {
          "output_type": "stream",
          "name": "stdout",
          "text": [
            "Analysis complete. Results written to 'transaction_counts_per_account.csv'\n"
          ]
        }
      ]
    },
    {
      "cell_type": "markdown",
      "source": [
        "### 3. ParDo\n",
        "Let's use ParDo to categorize transactions based on the amount:\n",
        "\n",
        "1.   Small: Amount < $100\n",
        "\n",
        "2.   Medium: $100 <= Amount < $500\n",
        "\n",
        "3.   Large: Amount >= $500\n",
        "\n",
        "\n",
        "\n",
        "\n"
      ],
      "metadata": {
        "id": "uRvxA7aJLS9m"
      }
    },
    {
      "cell_type": "code",
      "source": [
        "class CategorizeTransaction(beam.DoFn):\n",
        "    def process(self, transaction):\n",
        "        amount = float(transaction['amount'])\n",
        "        if amount < 100:\n",
        "            category = 'Small'\n",
        "        elif amount < 500:\n",
        "            category = 'Medium'\n",
        "        else:\n",
        "            category = 'Large'\n",
        "\n",
        "        # Add the category to the transaction and yield the result\n",
        "        yield {**transaction, 'category': category}"
      ],
      "metadata": {
        "id": "by40h7B4LWtf"
      },
      "execution_count": 31,
      "outputs": []
    },
    {
      "cell_type": "code",
      "source": [
        "with beam.Pipeline(options=options) as p:\n",
        "    categorized_transactions = (\n",
        "        p\n",
        "        | 'Read from CSV' >> beam.io.ReadFromText('banking_transactions.csv', skip_header_lines=1)\n",
        "        | 'Parse CSV' >> beam.Map(lambda line: dict(zip(['transaction_id', 'account_id', 'transaction_type', 'amount', 'balance_after_transaction', 'timestamp'], line.split(','))))\n",
        "        | 'Categorize Transactions' >> beam.ParDo(CategorizeTransaction())\n",
        "        | 'Write Results to CSV' >> beam.io.WriteToText('categorized_transactions', file_name_suffix='.csv', header='transaction_id,account_id,transaction_type,amount,balance_after_transaction,timestamp,category', shard_name_template='')\n",
        "    )\n",
        "\n",
        "print(\"Analysis complete. Results written to 'categorized_transactions.csv'\")"
      ],
      "metadata": {
        "colab": {
          "base_uri": "https://localhost:8080/"
        },
        "id": "6rqekWbqLeQy",
        "outputId": "5bac55a5-d89a-4f7d-e78a-d5f1b3cde72b"
      },
      "execution_count": 32,
      "outputs": [
        {
          "output_type": "stream",
          "name": "stdout",
          "text": [
            "Analysis complete. Results written to 'categorized_transactions.csv'\n"
          ]
        }
      ]
    },
    {
      "cell_type": "markdown",
      "source": [
        "### 4. Windowing\n",
        "We'll window our transactions into fixed windows of 1 day based on their timestamp and compute the total amount transacted per day."
      ],
      "metadata": {
        "id": "NzgG76cXLtgS"
      }
    },
    {
      "cell_type": "code",
      "source": [
        "class ExtractTimestamp(beam.DoFn):\n",
        "    def process(self, element):\n",
        "        timestamp_str = element['timestamp']\n",
        "        timestamp_obj = datetime.strptime(timestamp_str, '%Y-%m-%d %H:%M:%S')\n",
        "        unix_timestamp = time.mktime(timestamp_obj.timetuple())\n",
        "        yield TimestampedValue(element, unix_timestamp)"
      ],
      "metadata": {
        "id": "XdCSV42_MO7p"
      },
      "execution_count": 33,
      "outputs": []
    },
    {
      "cell_type": "code",
      "source": [
        "from apache_beam.transforms.window import FixedWindows, TimestampedValue\n",
        "from datetime import datetime\n",
        "import time\n",
        "\n",
        "with beam.Pipeline(options=options) as p:\n",
        "    daily_totals = (\n",
        "        p\n",
        "        | 'Read from CSV' >> beam.io.ReadFromText('banking_transactions.csv', skip_header_lines=1)\n",
        "        | 'Parse CSV' >> beam.Map(lambda line: dict(zip(['transaction_id', 'account_id', 'transaction_type', 'amount', 'balance_after_transaction', 'timestamp'], line.split(','))))\n",
        "        | 'Extract Timestamp' >> beam.ParDo(ExtractTimestamp())\n",
        "        | 'Window into Days' >> beam.WindowInto(FixedWindows(24*60*60))  # 1 day fixed windows\n",
        "        | 'Map Amounts' >> beam.Map(lambda record: float(record['amount']))\n",
        "        | 'Compute Daily Total' >> beam.CombineGlobally(sum).without_defaults()\n",
        "        | 'Write Results' >> beam.io.WriteToText('daily_totals.txt')\n",
        "    )\n",
        "\n",
        "print(\"Analysis complete. Results written to 'daily_totals.txt'\")"
      ],
      "metadata": {
        "colab": {
          "base_uri": "https://localhost:8080/"
        },
        "id": "ZSH3z-2QMR2u",
        "outputId": "677a5d10-3ae3-4fa0-ae7e-8f140cd39f99"
      },
      "execution_count": 34,
      "outputs": [
        {
          "output_type": "stream",
          "name": "stdout",
          "text": [
            "Analysis complete. Results written to 'daily_totals.txt'\n"
          ]
        }
      ]
    },
    {
      "cell_type": "markdown",
      "source": [
        "### 5. Triggers\n",
        "We'll window our transactions into fixed windows of 1 day based on their timestamp. We'll then set a trigger to fire when it has seen at least 100,000 elements in a window. This is an example of an element count trigger."
      ],
      "metadata": {
        "id": "qkfPX3wgNBWE"
      }
    },
    {
      "cell_type": "code",
      "source": [
        "from apache_beam.transforms.trigger import AfterCount\n",
        "\n",
        "class ExtractTimestamp(beam.DoFn):\n",
        "    def process(self, element):\n",
        "        timestamp_str = element['timestamp']\n",
        "        timestamp_obj = datetime.strptime(timestamp_str, '%Y-%m-%d %H:%M:%S')\n",
        "        unix_timestamp = time.mktime(timestamp_obj.timetuple())\n",
        "        yield TimestampedValue(element, unix_timestamp)"
      ],
      "metadata": {
        "id": "2lcCOojENFpl"
      },
      "execution_count": 35,
      "outputs": []
    },
    {
      "cell_type": "code",
      "source": [
        "with beam.Pipeline(options=options) as p:\n",
        "    transaction_counts = (\n",
        "        p\n",
        "        | 'Read from CSV' >> beam.io.ReadFromText('banking_transactions.csv', skip_header_lines=1)\n",
        "        | 'Parse CSV' >> beam.Map(lambda line: dict(zip(['transaction_id', 'account_id', 'transaction_type', 'amount', 'balance_after_transaction', 'timestamp'], line.split(','))))\n",
        "        | 'Extract Timestamp' >> beam.ParDo(ExtractTimestamp())\n",
        "        | 'Window into Weeks' >> beam.WindowInto(FixedWindows(7*24*60*60), trigger=AfterCount(10), accumulation_mode=beam.transforms.trigger.AccumulationMode.DISCARDING)\n",
        "        | 'Count Transactions' >> beam.combiners.Count.Globally().without_defaults()\n",
        "        | 'Write Results' >> beam.io.WriteToText('transaction_counts_with_trigger.txt')\n",
        "    )\n",
        "\n",
        "print(\"Analysis complete. Results written to 'transaction_counts_with_trigger.txt'\")"
      ],
      "metadata": {
        "colab": {
          "base_uri": "https://localhost:8080/"
        },
        "id": "Ur5-j_ElNaRf",
        "outputId": "1bfb2264-648c-41bd-e1bf-c30f0684b428"
      },
      "execution_count": 36,
      "outputs": [
        {
          "output_type": "stream",
          "name": "stderr",
          "text": [
            "WARNING:apache_beam.transforms.core:GroupByKey: Unsafe trigger `AfterCount(10)` detected (reason: MAY_FINISH). This is being allowed because --allow_unsafe_triggers is set. This could lead to missing or incomplete groups.\n"
          ]
        },
        {
          "output_type": "stream",
          "name": "stdout",
          "text": [
            "Analysis complete. Results written to 'transaction_counts_with_trigger.txt'\n"
          ]
        }
      ]
    }
  ]
}